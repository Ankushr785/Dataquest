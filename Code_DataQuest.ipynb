{
 "cells": [
  {
   "cell_type": "code",
   "execution_count": 1,
   "metadata": {
    "collapsed": true
   },
   "outputs": [],
   "source": [
    "import pandas as pd\n",
    "import numpy as np\n",
    "import matplotlib.pyplot as plt\n",
    "import seaborn as sns\n",
    "import os\n",
    "pd.set_option('display.max_columns', None)\n",
    "os.chdir('/home/ankushraut/Downloads/dataquest')"
   ]
  },
  {
   "cell_type": "code",
   "execution_count": 2,
   "metadata": {
    "collapsed": true
   },
   "outputs": [],
   "source": [
    "train = pd.read_csv('train.csv')\n",
    "test = pd.read_csv('test.csv')\n",
    "submission = pd.read_csv('sample_submission.csv')"
   ]
  },
  {
   "cell_type": "code",
   "execution_count": 3,
   "metadata": {},
   "outputs": [
    {
     "data": {
      "text/html": [
       "<div>\n",
       "<style>\n",
       "    .dataframe thead tr:only-child th {\n",
       "        text-align: right;\n",
       "    }\n",
       "\n",
       "    .dataframe thead th {\n",
       "        text-align: left;\n",
       "    }\n",
       "\n",
       "    .dataframe tbody tr th {\n",
       "        vertical-align: top;\n",
       "    }\n",
       "</style>\n",
       "<table border=\"1\" class=\"dataframe\">\n",
       "  <thead>\n",
       "    <tr style=\"text-align: right;\">\n",
       "      <th></th>\n",
       "      <th>victim_id</th>\n",
       "      <th>incident_time</th>\n",
       "      <th>incident_date</th>\n",
       "      <th>incident_location</th>\n",
       "      <th>incident_tehsil</th>\n",
       "      <th>cause_of_emergency</th>\n",
       "      <th>base_to_scene_distance</th>\n",
       "      <th>scene_to_hospital_distance</th>\n",
       "      <th>roadway_feature</th>\n",
       "      <th>road_type</th>\n",
       "      <th>surrounding_area</th>\n",
       "      <th>criticality</th>\n",
       "    </tr>\n",
       "  </thead>\n",
       "  <tbody>\n",
       "    <tr>\n",
       "      <th>0</th>\n",
       "      <td>VIC20120001987267</td>\n",
       "      <td>22:23:19</td>\n",
       "      <td>07-11-2012</td>\n",
       "      <td>Subhash Nagar</td>\n",
       "      <td>Raipur</td>\n",
       "      <td>Multiple Vehicular Incident</td>\n",
       "      <td>13</td>\n",
       "      <td>12</td>\n",
       "      <td>CUR</td>\n",
       "      <td>HIW</td>\n",
       "      <td>FOR</td>\n",
       "      <td>0</td>\n",
       "    </tr>\n",
       "    <tr>\n",
       "      <th>1</th>\n",
       "      <td>VIC20110002147887</td>\n",
       "      <td>20:23:09</td>\n",
       "      <td>02-11-2011</td>\n",
       "      <td>Coro Nation</td>\n",
       "      <td>Raipur</td>\n",
       "      <td>2 Wheeler accidents</td>\n",
       "      <td>1</td>\n",
       "      <td>5</td>\n",
       "      <td>CUR</td>\n",
       "      <td>HIW</td>\n",
       "      <td>AGL</td>\n",
       "      <td>0</td>\n",
       "    </tr>\n",
       "    <tr>\n",
       "      <th>2</th>\n",
       "      <td>VIC20090001391483</td>\n",
       "      <td>20:37:15</td>\n",
       "      <td>25-07-2009</td>\n",
       "      <td>Kewal Vihar</td>\n",
       "      <td>Raipur</td>\n",
       "      <td>Non motorised vehicle accidents(Bullock cart,B...</td>\n",
       "      <td>2</td>\n",
       "      <td>2</td>\n",
       "      <td>INT</td>\n",
       "      <td>LOC</td>\n",
       "      <td>HOSP</td>\n",
       "      <td>0</td>\n",
       "    </tr>\n",
       "    <tr>\n",
       "      <th>3</th>\n",
       "      <td>VIC20120000900722</td>\n",
       "      <td>15:20:22</td>\n",
       "      <td>19-05-2012</td>\n",
       "      <td>I S B T</td>\n",
       "      <td>Raipur</td>\n",
       "      <td>2 Wheeler accidents</td>\n",
       "      <td>8</td>\n",
       "      <td>4</td>\n",
       "      <td>CUR</td>\n",
       "      <td>HIW</td>\n",
       "      <td>HIL</td>\n",
       "      <td>0</td>\n",
       "    </tr>\n",
       "    <tr>\n",
       "      <th>4</th>\n",
       "      <td>VIC20100001241285</td>\n",
       "      <td>16:22:17</td>\n",
       "      <td>12-06-2010</td>\n",
       "      <td>Sahaspur Ambu</td>\n",
       "      <td>Sahaspur</td>\n",
       "      <td>2 Wheeler accidents</td>\n",
       "      <td>1</td>\n",
       "      <td>26</td>\n",
       "      <td>CUR</td>\n",
       "      <td>HIW</td>\n",
       "      <td>AGL</td>\n",
       "      <td>0</td>\n",
       "    </tr>\n",
       "  </tbody>\n",
       "</table>\n",
       "</div>"
      ],
      "text/plain": [
       "           victim_id incident_time incident_date incident_location  \\\n",
       "0  VIC20120001987267      22:23:19    07-11-2012     Subhash Nagar   \n",
       "1  VIC20110002147887      20:23:09    02-11-2011       Coro Nation   \n",
       "2  VIC20090001391483      20:37:15    25-07-2009       Kewal Vihar   \n",
       "3  VIC20120000900722      15:20:22    19-05-2012           I S B T   \n",
       "4  VIC20100001241285      16:22:17    12-06-2010     Sahaspur Ambu   \n",
       "\n",
       "  incident_tehsil                                 cause_of_emergency  \\\n",
       "0          Raipur                        Multiple Vehicular Incident   \n",
       "1          Raipur                                2 Wheeler accidents   \n",
       "2          Raipur  Non motorised vehicle accidents(Bullock cart,B...   \n",
       "3          Raipur                                2 Wheeler accidents   \n",
       "4        Sahaspur                                2 Wheeler accidents   \n",
       "\n",
       "   base_to_scene_distance  scene_to_hospital_distance roadway_feature  \\\n",
       "0                      13                          12             CUR   \n",
       "1                       1                           5             CUR   \n",
       "2                       2                           2             INT   \n",
       "3                       8                           4             CUR   \n",
       "4                       1                          26             CUR   \n",
       "\n",
       "  road_type surrounding_area  criticality  \n",
       "0       HIW              FOR            0  \n",
       "1       HIW              AGL            0  \n",
       "2       LOC             HOSP            0  \n",
       "3       HIW              HIL            0  \n",
       "4       HIW              AGL            0  "
      ]
     },
     "execution_count": 3,
     "metadata": {},
     "output_type": "execute_result"
    }
   ],
   "source": [
    "train.head()"
   ]
  },
  {
   "cell_type": "markdown",
   "metadata": {},
   "source": [
    "### Imbalanced dataset"
   ]
  },
  {
   "cell_type": "code",
   "execution_count": 4,
   "metadata": {},
   "outputs": [
    {
     "data": {
      "text/plain": [
       "0    11255\n",
       "1      522\n",
       "Name: criticality, dtype: int64"
      ]
     },
     "execution_count": 4,
     "metadata": {},
     "output_type": "execute_result"
    }
   ],
   "source": [
    "train.criticality.value_counts()"
   ]
  },
  {
   "cell_type": "code",
   "execution_count": 5,
   "metadata": {},
   "outputs": [
    {
     "data": {
      "image/png": "[encoded data removed]",
      "text/plain": [
       "<matplotlib.figure.Figure at 0x7f616612e2e8>"
      ]
     },
     "metadata": {},
     "output_type": "display_data"
    }
   ],
   "source": [
    "plt.title('Distribution of target')\n",
    "sns.violinplot(train.criticality)\n",
    "plt.show()"
   ]
  },
  {
   "cell_type": "code",
   "execution_count": 6,
   "metadata": {
    "scrolled": true
   },
   "outputs": [
    {
     "data": {
      "image/png": "[encoded data removed]",
      "text/plain": [
       "<matplotlib.figure.Figure at 0x7f6166294390>"
      ]
     },
     "metadata": {},
     "output_type": "display_data"
    }
   ],
   "source": [
    "plt.title('Distribution of base_to_scene_distance')\n",
    "sns.distplot(train.base_to_scene_distance)\n",
    "plt.show()"
   ]
  },
  {
   "cell_type": "code",
   "execution_count": 7,
   "metadata": {},
   "outputs": [
    {
     "data": {
      "image/png": "[encoded data removed]",
      "text/plain": [
       "<matplotlib.figure.Figure at 0x7f6165dbc0b8>"
      ]
     },
     "metadata": {},
     "output_type": "display_data"
    }
   ],
   "source": [
    "plt.title('Distribution of scene_to_hospital_distance')\n",
    "sns.distplot(train.scene_to_hospital_distance)\n",
    "plt.show()"
   ]
  },
  {
   "cell_type": "code",
   "execution_count": 8,
   "metadata": {},
   "outputs": [
    {
     "data": {
      "text/plain": [
       "True"
      ]
     },
     "execution_count": 8,
     "metadata": {},
     "output_type": "execute_result"
    }
   ],
   "source": [
    "train.isnull().values.any()"
   ]
  },
  {
   "cell_type": "code",
   "execution_count": 9,
   "metadata": {},
   "outputs": [
    {
     "data": {
      "text/plain": [
       "0.026067759191644731"
      ]
     },
     "execution_count": 9,
     "metadata": {},
     "output_type": "execute_result"
    }
   ],
   "source": [
    "train.incident_location.isnull().values.sum()/len(train)"
   ]
  },
  {
   "cell_type": "code",
   "execution_count": 10,
   "metadata": {},
   "outputs": [
    {
     "data": {
      "text/html": [
       "<div>\n",
       "<style>\n",
       "    .dataframe thead tr:only-child th {\n",
       "        text-align: right;\n",
       "    }\n",
       "\n",
       "    .dataframe thead th {\n",
       "        text-align: left;\n",
       "    }\n",
       "\n",
       "    .dataframe tbody tr th {\n",
       "        vertical-align: top;\n",
       "    }\n",
       "</style>\n",
       "<table border=\"1\" class=\"dataframe\">\n",
       "  <thead>\n",
       "    <tr style=\"text-align: right;\">\n",
       "      <th></th>\n",
       "      <th>victim_id</th>\n",
       "      <th>incident_time</th>\n",
       "      <th>incident_date</th>\n",
       "      <th>incident_location</th>\n",
       "      <th>incident_tehsil</th>\n",
       "      <th>cause_of_emergency</th>\n",
       "      <th>base_to_scene_distance</th>\n",
       "      <th>scene_to_hospital_distance</th>\n",
       "      <th>roadway_feature</th>\n",
       "      <th>road_type</th>\n",
       "      <th>surrounding_area</th>\n",
       "      <th>criticality</th>\n",
       "    </tr>\n",
       "  </thead>\n",
       "  <tbody>\n",
       "    <tr>\n",
       "      <th>0</th>\n",
       "      <td>VIC20120001987267</td>\n",
       "      <td>22:23:19</td>\n",
       "      <td>07-11-2012</td>\n",
       "      <td>Subhash Nagar</td>\n",
       "      <td>Raipur</td>\n",
       "      <td>Multiple Vehicular Incident</td>\n",
       "      <td>13</td>\n",
       "      <td>12</td>\n",
       "      <td>CUR</td>\n",
       "      <td>HIW</td>\n",
       "      <td>FOR</td>\n",
       "      <td>0</td>\n",
       "    </tr>\n",
       "    <tr>\n",
       "      <th>1</th>\n",
       "      <td>VIC20110002147887</td>\n",
       "      <td>20:23:09</td>\n",
       "      <td>02-11-2011</td>\n",
       "      <td>Coro Nation</td>\n",
       "      <td>Raipur</td>\n",
       "      <td>2 Wheeler accidents</td>\n",
       "      <td>1</td>\n",
       "      <td>5</td>\n",
       "      <td>CUR</td>\n",
       "      <td>HIW</td>\n",
       "      <td>AGL</td>\n",
       "      <td>0</td>\n",
       "    </tr>\n",
       "    <tr>\n",
       "      <th>2</th>\n",
       "      <td>VIC20090001391483</td>\n",
       "      <td>20:37:15</td>\n",
       "      <td>25-07-2009</td>\n",
       "      <td>Kewal Vihar</td>\n",
       "      <td>Raipur</td>\n",
       "      <td>Non motorised vehicle accidents(Bullock cart,B...</td>\n",
       "      <td>2</td>\n",
       "      <td>2</td>\n",
       "      <td>INT</td>\n",
       "      <td>LOC</td>\n",
       "      <td>HOSP</td>\n",
       "      <td>0</td>\n",
       "    </tr>\n",
       "    <tr>\n",
       "      <th>3</th>\n",
       "      <td>VIC20120000900722</td>\n",
       "      <td>15:20:22</td>\n",
       "      <td>19-05-2012</td>\n",
       "      <td>I S B T</td>\n",
       "      <td>Raipur</td>\n",
       "      <td>2 Wheeler accidents</td>\n",
       "      <td>8</td>\n",
       "      <td>4</td>\n",
       "      <td>CUR</td>\n",
       "      <td>HIW</td>\n",
       "      <td>HIL</td>\n",
       "      <td>0</td>\n",
       "    </tr>\n",
       "    <tr>\n",
       "      <th>4</th>\n",
       "      <td>VIC20100001241285</td>\n",
       "      <td>16:22:17</td>\n",
       "      <td>12-06-2010</td>\n",
       "      <td>Sahaspur Ambu</td>\n",
       "      <td>Sahaspur</td>\n",
       "      <td>2 Wheeler accidents</td>\n",
       "      <td>1</td>\n",
       "      <td>26</td>\n",
       "      <td>CUR</td>\n",
       "      <td>HIW</td>\n",
       "      <td>AGL</td>\n",
       "      <td>0</td>\n",
       "    </tr>\n",
       "  </tbody>\n",
       "</table>\n",
       "</div>"
      ],
      "text/plain": [
       "           victim_id incident_time incident_date incident_location  \\\n",
       "0  VIC20120001987267      22:23:19    07-11-2012     Subhash Nagar   \n",
       "1  VIC20110002147887      20:23:09    02-11-2011       Coro Nation   \n",
       "2  VIC20090001391483      20:37:15    25-07-2009       Kewal Vihar   \n",
       "3  VIC20120000900722      15:20:22    19-05-2012           I S B T   \n",
       "4  VIC20100001241285      16:22:17    12-06-2010     Sahaspur Ambu   \n",
       "\n",
       "  incident_tehsil                                 cause_of_emergency  \\\n",
       "0          Raipur                        Multiple Vehicular Incident   \n",
       "1          Raipur                                2 Wheeler accidents   \n",
       "2          Raipur  Non motorised vehicle accidents(Bullock cart,B...   \n",
       "3          Raipur                                2 Wheeler accidents   \n",
       "4        Sahaspur                                2 Wheeler accidents   \n",
       "\n",
       "   base_to_scene_distance  scene_to_hospital_distance roadway_feature  \\\n",
       "0                      13                          12             CUR   \n",
       "1                       1                           5             CUR   \n",
       "2                       2                           2             INT   \n",
       "3                       8                           4             CUR   \n",
       "4                       1                          26             CUR   \n",
       "\n",
       "  road_type surrounding_area  criticality  \n",
       "0       HIW              FOR            0  \n",
       "1       HIW              AGL            0  \n",
       "2       LOC             HOSP            0  \n",
       "3       HIW              HIL            0  \n",
       "4       HIW              AGL            0  "
      ]
     },
     "execution_count": 10,
     "metadata": {},
     "output_type": "execute_result"
    }
   ],
   "source": [
    "train.head()"
   ]
  },
  {
   "cell_type": "markdown",
   "metadata": {},
   "source": [
    "### To keep the model simplistic, null values are simply filled using the value before. Moreover, the feature with null values is going to get eliminated from the final model."
   ]
  },
  {
   "cell_type": "code",
   "execution_count": 11,
   "metadata": {
    "collapsed": true
   },
   "outputs": [],
   "source": [
    "train = train.fillna(method = 'bfill', axis = 0)\n",
    "test = test.fillna(method = 'bfill', axis = 0)"
   ]
  },
  {
   "cell_type": "code",
   "execution_count": 12,
   "metadata": {
    "collapsed": true
   },
   "outputs": [],
   "source": [
    "from sklearn.preprocessing import LabelEncoder"
   ]
  },
  {
   "cell_type": "markdown",
   "metadata": {},
   "source": [
    "### One hot encoding of categorical features"
   ]
  },
  {
   "cell_type": "code",
   "execution_count": 13,
   "metadata": {
    "collapsed": true
   },
   "outputs": [],
   "source": [
    "train = train.join(pd.get_dummies(train.incident_tehsil))\n",
    "#train.rename(columns={'Raipur':'rai', 'Doiwala':'doi', 'Sahaspur':'saha', 'Vikasnagar':'vikas','Dehradun'\n",
    "                   #  :'dehra', 'Chakrata':'chakra', 'Kalsi':'kal'}, inplace=True)\n",
    "#train = train.join(pd.get_dummies(train.incident_location))\n",
    "train = train.join(pd.get_dummies(train.cause_of_emergency))\n",
    "train = train.join(pd.get_dummies(train.roadway_feature))\n",
    "train = train.join(pd.get_dummies(train.road_type))\n",
    "train = train.join(pd.get_dummies(train.surrounding_area))\n",
    "\n",
    "test = test.join(pd.get_dummies(test.incident_tehsil))\n",
    "#test.rename(columns={'Raipur':'rai', 'Doiwala':'doi', 'Sahaspur':'saha', 'Vikasnagar':'vikas','Dehradun'\n",
    "                    # :'dehra', 'Chakrata':'chakra', 'Kalsi':'kal'}, inplace=True)\n",
    "#test = test.join(pd.get_dummies(test.incident_location))\n",
    "test = test.join(pd.get_dummies(test.cause_of_emergency))\n",
    "test = test.join(pd.get_dummies(test.roadway_feature))\n",
    "test = test.join(pd.get_dummies(test.road_type))\n",
    "test = test.join(pd.get_dummies(test.surrounding_area))\n",
    "\n",
    "#test = test.reindex(columns = train.columns, fill_value=0)\n",
    "#train['base_to_scene_distance'] = np.log(train['base_to_scene_distance'])"
   ]
  },
  {
   "cell_type": "code",
   "execution_count": 14,
   "metadata": {},
   "outputs": [
    {
     "data": {
      "text/html": [
       "<div>\n",
       "<style>\n",
       "    .dataframe thead tr:only-child th {\n",
       "        text-align: right;\n",
       "    }\n",
       "\n",
       "    .dataframe thead th {\n",
       "        text-align: left;\n",
       "    }\n",
       "\n",
       "    .dataframe tbody tr th {\n",
       "        vertical-align: top;\n",
       "    }\n",
       "</style>\n",
       "<table border=\"1\" class=\"dataframe\">\n",
       "  <thead>\n",
       "    <tr style=\"text-align: right;\">\n",
       "      <th></th>\n",
       "      <th>victim_id</th>\n",
       "      <th>incident_time</th>\n",
       "      <th>incident_date</th>\n",
       "      <th>incident_location</th>\n",
       "      <th>incident_tehsil</th>\n",
       "      <th>cause_of_emergency</th>\n",
       "      <th>base_to_scene_distance</th>\n",
       "      <th>scene_to_hospital_distance</th>\n",
       "      <th>roadway_feature</th>\n",
       "      <th>road_type</th>\n",
       "      <th>surrounding_area</th>\n",
       "      <th>criticality</th>\n",
       "      <th>Chakrata</th>\n",
       "      <th>Dehradun</th>\n",
       "      <th>Doiwala</th>\n",
       "      <th>Kalsi</th>\n",
       "      <th>Raipur</th>\n",
       "      <th>Sahaspur</th>\n",
       "      <th>Vikasnagar</th>\n",
       "      <th>2 Wheeler accidents</th>\n",
       "      <th>Auto (3 Wheeler accidents)</th>\n",
       "      <th>Extrication&gt;20mts</th>\n",
       "      <th>MCI</th>\n",
       "      <th>MVC - Pedestrian (Run Over/Hit &amp; Run)</th>\n",
       "      <th>MVC-Fixed object (Divider)</th>\n",
       "      <th>MVC-MV</th>\n",
       "      <th>MVC-Non traffic inside a parked vehicle/Skidding</th>\n",
       "      <th>MVC-Thrown off from Vehicle</th>\n",
       "      <th>Multiple Vehicular Incident</th>\n",
       "      <th>Non motorised vehicle accidents(Bullock cart,Bicycle,Rickshaw,Push cart)</th>\n",
       "      <th>Railroad Train/Other Object</th>\n",
       "      <th>Vehicle -Fall From Height etc.</th>\n",
       "      <th>Vehicle role over/Skid</th>\n",
       "      <th>CUR</th>\n",
       "      <th>INT</th>\n",
       "      <th>SLP</th>\n",
       "      <th>STR</th>\n",
       "      <th>UNK</th>\n",
       "      <th>HIW</th>\n",
       "      <th>LOC</th>\n",
       "      <th>AGL</th>\n",
       "      <th>COL</th>\n",
       "      <th>FOR</th>\n",
       "      <th>HIL</th>\n",
       "      <th>HOSP</th>\n",
       "      <th>MAR</th>\n",
       "    </tr>\n",
       "  </thead>\n",
       "  <tbody>\n",
       "    <tr>\n",
       "      <th>0</th>\n",
       "      <td>VIC20120001987267</td>\n",
       "      <td>22:23:19</td>\n",
       "      <td>07-11-2012</td>\n",
       "      <td>Subhash Nagar</td>\n",
       "      <td>Raipur</td>\n",
       "      <td>Multiple Vehicular Incident</td>\n",
       "      <td>13</td>\n",
       "      <td>12</td>\n",
       "      <td>CUR</td>\n",
       "      <td>HIW</td>\n",
       "      <td>FOR</td>\n",
       "      <td>0</td>\n",
       "      <td>0</td>\n",
       "      <td>0</td>\n",
       "      <td>0</td>\n",
       "      <td>0</td>\n",
       "      <td>1</td>\n",
       "      <td>0</td>\n",
       "      <td>0</td>\n",
       "      <td>0</td>\n",
       "      <td>0</td>\n",
       "      <td>0</td>\n",
       "      <td>0</td>\n",
       "      <td>0</td>\n",
       "      <td>0</td>\n",
       "      <td>0</td>\n",
       "      <td>0</td>\n",
       "      <td>0</td>\n",
       "      <td>1</td>\n",
       "      <td>0</td>\n",
       "      <td>0</td>\n",
       "      <td>0</td>\n",
       "      <td>0</td>\n",
       "      <td>1</td>\n",
       "      <td>0</td>\n",
       "      <td>0</td>\n",
       "      <td>0</td>\n",
       "      <td>0</td>\n",
       "      <td>1</td>\n",
       "      <td>0</td>\n",
       "      <td>0</td>\n",
       "      <td>0</td>\n",
       "      <td>1</td>\n",
       "      <td>0</td>\n",
       "      <td>0</td>\n",
       "      <td>0</td>\n",
       "    </tr>\n",
       "    <tr>\n",
       "      <th>1</th>\n",
       "      <td>VIC20110002147887</td>\n",
       "      <td>20:23:09</td>\n",
       "      <td>02-11-2011</td>\n",
       "      <td>Coro Nation</td>\n",
       "      <td>Raipur</td>\n",
       "      <td>2 Wheeler accidents</td>\n",
       "      <td>1</td>\n",
       "      <td>5</td>\n",
       "      <td>CUR</td>\n",
       "      <td>HIW</td>\n",
       "      <td>AGL</td>\n",
       "      <td>0</td>\n",
       "      <td>0</td>\n",
       "      <td>0</td>\n",
       "      <td>0</td>\n",
       "      <td>0</td>\n",
       "      <td>1</td>\n",
       "      <td>0</td>\n",
       "      <td>0</td>\n",
       "      <td>1</td>\n",
       "      <td>0</td>\n",
       "      <td>0</td>\n",
       "      <td>0</td>\n",
       "      <td>0</td>\n",
       "      <td>0</td>\n",
       "      <td>0</td>\n",
       "      <td>0</td>\n",
       "      <td>0</td>\n",
       "      <td>0</td>\n",
       "      <td>0</td>\n",
       "      <td>0</td>\n",
       "      <td>0</td>\n",
       "      <td>0</td>\n",
       "      <td>1</td>\n",
       "      <td>0</td>\n",
       "      <td>0</td>\n",
       "      <td>0</td>\n",
       "      <td>0</td>\n",
       "      <td>1</td>\n",
       "      <td>0</td>\n",
       "      <td>1</td>\n",
       "      <td>0</td>\n",
       "      <td>0</td>\n",
       "      <td>0</td>\n",
       "      <td>0</td>\n",
       "      <td>0</td>\n",
       "    </tr>\n",
       "    <tr>\n",
       "      <th>2</th>\n",
       "      <td>VIC20090001391483</td>\n",
       "      <td>20:37:15</td>\n",
       "      <td>25-07-2009</td>\n",
       "      <td>Kewal Vihar</td>\n",
       "      <td>Raipur</td>\n",
       "      <td>Non motorised vehicle accidents(Bullock cart,B...</td>\n",
       "      <td>2</td>\n",
       "      <td>2</td>\n",
       "      <td>INT</td>\n",
       "      <td>LOC</td>\n",
       "      <td>HOSP</td>\n",
       "      <td>0</td>\n",
       "      <td>0</td>\n",
       "      <td>0</td>\n",
       "      <td>0</td>\n",
       "      <td>0</td>\n",
       "      <td>1</td>\n",
       "      <td>0</td>\n",
       "      <td>0</td>\n",
       "      <td>0</td>\n",
       "      <td>0</td>\n",
       "      <td>0</td>\n",
       "      <td>0</td>\n",
       "      <td>0</td>\n",
       "      <td>0</td>\n",
       "      <td>0</td>\n",
       "      <td>0</td>\n",
       "      <td>0</td>\n",
       "      <td>0</td>\n",
       "      <td>1</td>\n",
       "      <td>0</td>\n",
       "      <td>0</td>\n",
       "      <td>0</td>\n",
       "      <td>0</td>\n",
       "      <td>1</td>\n",
       "      <td>0</td>\n",
       "      <td>0</td>\n",
       "      <td>0</td>\n",
       "      <td>0</td>\n",
       "      <td>1</td>\n",
       "      <td>0</td>\n",
       "      <td>0</td>\n",
       "      <td>0</td>\n",
       "      <td>0</td>\n",
       "      <td>1</td>\n",
       "      <td>0</td>\n",
       "    </tr>\n",
       "    <tr>\n",
       "      <th>3</th>\n",
       "      <td>VIC20120000900722</td>\n",
       "      <td>15:20:22</td>\n",
       "      <td>19-05-2012</td>\n",
       "      <td>I S B T</td>\n",
       "      <td>Raipur</td>\n",
       "      <td>2 Wheeler accidents</td>\n",
       "      <td>8</td>\n",
       "      <td>4</td>\n",
       "      <td>CUR</td>\n",
       "      <td>HIW</td>\n",
       "      <td>HIL</td>\n",
       "      <td>0</td>\n",
       "      <td>0</td>\n",
       "      <td>0</td>\n",
       "      <td>0</td>\n",
       "      <td>0</td>\n",
       "      <td>1</td>\n",
       "      <td>0</td>\n",
       "      <td>0</td>\n",
       "      <td>1</td>\n",
       "      <td>0</td>\n",
       "      <td>0</td>\n",
       "      <td>0</td>\n",
       "      <td>0</td>\n",
       "      <td>0</td>\n",
       "      <td>0</td>\n",
       "      <td>0</td>\n",
       "      <td>0</td>\n",
       "      <td>0</td>\n",
       "      <td>0</td>\n",
       "      <td>0</td>\n",
       "      <td>0</td>\n",
       "      <td>0</td>\n",
       "      <td>1</td>\n",
       "      <td>0</td>\n",
       "      <td>0</td>\n",
       "      <td>0</td>\n",
       "      <td>0</td>\n",
       "      <td>1</td>\n",
       "      <td>0</td>\n",
       "      <td>0</td>\n",
       "      <td>0</td>\n",
       "      <td>0</td>\n",
       "      <td>1</td>\n",
       "      <td>0</td>\n",
       "      <td>0</td>\n",
       "    </tr>\n",
       "    <tr>\n",
       "      <th>4</th>\n",
       "      <td>VIC20100001241285</td>\n",
       "      <td>16:22:17</td>\n",
       "      <td>12-06-2010</td>\n",
       "      <td>Sahaspur Ambu</td>\n",
       "      <td>Sahaspur</td>\n",
       "      <td>2 Wheeler accidents</td>\n",
       "      <td>1</td>\n",
       "      <td>26</td>\n",
       "      <td>CUR</td>\n",
       "      <td>HIW</td>\n",
       "      <td>AGL</td>\n",
       "      <td>0</td>\n",
       "      <td>0</td>\n",
       "      <td>0</td>\n",
       "      <td>0</td>\n",
       "      <td>0</td>\n",
       "      <td>0</td>\n",
       "      <td>1</td>\n",
       "      <td>0</td>\n",
       "      <td>1</td>\n",
       "      <td>0</td>\n",
       "      <td>0</td>\n",
       "      <td>0</td>\n",
       "      <td>0</td>\n",
       "      <td>0</td>\n",
       "      <td>0</td>\n",
       "      <td>0</td>\n",
       "      <td>0</td>\n",
       "      <td>0</td>\n",
       "      <td>0</td>\n",
       "      <td>0</td>\n",
       "      <td>0</td>\n",
       "      <td>0</td>\n",
       "      <td>1</td>\n",
       "      <td>0</td>\n",
       "      <td>0</td>\n",
       "      <td>0</td>\n",
       "      <td>0</td>\n",
       "      <td>1</td>\n",
       "      <td>0</td>\n",
       "      <td>1</td>\n",
       "      <td>0</td>\n",
       "      <td>0</td>\n",
       "      <td>0</td>\n",
       "      <td>0</td>\n",
       "      <td>0</td>\n",
       "    </tr>\n",
       "  </tbody>\n",
       "</table>\n",
       "</div>"
      ],
      "text/plain": [
       "           victim_id incident_time incident_date incident_location  \\\n",
       "0  VIC20120001987267      22:23:19    07-11-2012     Subhash Nagar   \n",
       "1  VIC20110002147887      20:23:09    02-11-2011       Coro Nation   \n",
       "2  VIC20090001391483      20:37:15    25-07-2009       Kewal Vihar   \n",
       "3  VIC20120000900722      15:20:22    19-05-2012           I S B T   \n",
       "4  VIC20100001241285      16:22:17    12-06-2010     Sahaspur Ambu   \n",
       "\n",
       "  incident_tehsil                                 cause_of_emergency  \\\n",
       "0          Raipur                        Multiple Vehicular Incident   \n",
       "1          Raipur                                2 Wheeler accidents   \n",
       "2          Raipur  Non motorised vehicle accidents(Bullock cart,B...   \n",
       "3          Raipur                                2 Wheeler accidents   \n",
       "4        Sahaspur                                2 Wheeler accidents   \n",
       "\n",
       "   base_to_scene_distance  scene_to_hospital_distance roadway_feature  \\\n",
       "0                      13                          12             CUR   \n",
       "1                       1                           5             CUR   \n",
       "2                       2                           2             INT   \n",
       "3                       8                           4             CUR   \n",
       "4                       1                          26             CUR   \n",
       "\n",
       "  road_type surrounding_area  criticality  Chakrata  Dehradun  Doiwala  Kalsi  \\\n",
       "0       HIW              FOR            0         0         0        0      0   \n",
       "1       HIW              AGL            0         0         0        0      0   \n",
       "2       LOC             HOSP            0         0         0        0      0   \n",
       "3       HIW              HIL            0         0         0        0      0   \n",
       "4       HIW              AGL            0         0         0        0      0   \n",
       "\n",
       "   Raipur  Sahaspur  Vikasnagar  2 Wheeler accidents  \\\n",
       "0       1         0           0                    0   \n",
       "1       1         0           0                    1   \n",
       "2       1         0           0                    0   \n",
       "3       1         0           0                    1   \n",
       "4       0         1           0                    1   \n",
       "\n",
       "   Auto (3 Wheeler accidents)  Extrication>20mts  MCI  \\\n",
       "0                           0                  0    0   \n",
       "1                           0                  0    0   \n",
       "2                           0                  0    0   \n",
       "3                           0                  0    0   \n",
       "4                           0                  0    0   \n",
       "\n",
       "   MVC - Pedestrian (Run Over/Hit & Run)  MVC-Fixed object (Divider)  MVC-MV  \\\n",
       "0                                      0                           0       0   \n",
       "1                                      0                           0       0   \n",
       "2                                      0                           0       0   \n",
       "3                                      0                           0       0   \n",
       "4                                      0                           0       0   \n",
       "\n",
       "   MVC-Non traffic inside a parked vehicle/Skidding  \\\n",
       "0                                                 0   \n",
       "1                                                 0   \n",
       "2                                                 0   \n",
       "3                                                 0   \n",
       "4                                                 0   \n",
       "\n",
       "   MVC-Thrown off from Vehicle  Multiple Vehicular Incident  \\\n",
       "0                            0                            1   \n",
       "1                            0                            0   \n",
       "2                            0                            0   \n",
       "3                            0                            0   \n",
       "4                            0                            0   \n",
       "\n",
       "   Non motorised vehicle accidents(Bullock cart,Bicycle,Rickshaw,Push cart)  \\\n",
       "0                                                  0                          \n",
       "1                                                  0                          \n",
       "2                                                  1                          \n",
       "3                                                  0                          \n",
       "4                                                  0                          \n",
       "\n",
       "   Railroad Train/Other Object  Vehicle -Fall From Height etc.  \\\n",
       "0                            0                               0   \n",
       "1                            0                               0   \n",
       "2                            0                               0   \n",
       "3                            0                               0   \n",
       "4                            0                               0   \n",
       "\n",
       "   Vehicle role over/Skid  CUR  INT  SLP  STR  UNK  HIW  LOC  AGL  COL  FOR  \\\n",
       "0                       0    1    0    0    0    0    1    0    0    0    1   \n",
       "1                       0    1    0    0    0    0    1    0    1    0    0   \n",
       "2                       0    0    1    0    0    0    0    1    0    0    0   \n",
       "3                       0    1    0    0    0    0    1    0    0    0    0   \n",
       "4                       0    1    0    0    0    0    1    0    1    0    0   \n",
       "\n",
       "   HIL  HOSP  MAR  \n",
       "0    0     0    0  \n",
       "1    0     0    0  \n",
       "2    0     1    0  \n",
       "3    1     0    0  \n",
       "4    0     0    0  "
      ]
     },
     "execution_count": 14,
     "metadata": {},
     "output_type": "execute_result"
    }
   ],
   "source": [
    "train.head()"
   ]
  },
  {
   "cell_type": "code",
   "execution_count": 15,
   "metadata": {
    "collapsed": true
   },
   "outputs": [],
   "source": [
    "lbl1 = LabelEncoder()\n",
    "#lbl2 = LabelEncoder()\n",
    "#lbl3 = LabelEncoder()\n",
    "#lbl4 = LabelEncoder()\n",
    "#lbl5 = LabelEncoder()\n",
    "#lbl6 = LabelEncoder()\n",
    "\n",
    "#train.incident_location = lbl1.fit_transform(train.incident_location)\n",
    "#test.incident_location = lbl1.fit_transform(test.incident_location)\n",
    "\n",
    "train['incident_location'] = lbl1.fit_transform(train['incident_location'])\n",
    "test['incident_location'] = test['incident_location'].map(lambda s: '<unknown>' if s not in lbl1.classes_ else s)\n",
    "lbl1.classes_ = np.append(lbl1.classes_, '<unknown>')\n",
    "test['incident_location'] = lbl1.transform(test['incident_location'])\n",
    "\n",
    "#train.incident_tehsil = lbl2.fit_transform(train.incident_tehsil)\n",
    "#test.incident_tehsil = lbl2.fit_transform(test.incident_tehsil)\n",
    "\n",
    "#train.cause_of_emergency = lbl3.fit_transform(train.cause_of_emergency)\n",
    "#test.cause_of_emergency = lbl3.transform(test.cause_of_emergency)\n",
    "\n",
    "#train.roadway_feature = lbl4.fit_transform(train.roadway_feature)\n",
    "#test.roadway_feature = lbl4.transform(test.roadway_feature)\n",
    "\n",
    "#train.road_type = lbl5.fit_transform(train.road_type)\n",
    "#test.road_type = lbl5.transform(test.road_type)\n",
    "\n",
    "#train.surrounding_area = lbl6.fit_transform(train.surrounding_area)\n",
    "#test.surrounding_area = lbl6.transform(test.surrounding_area)"
   ]
  },
  {
   "cell_type": "markdown",
   "metadata": {},
   "source": [
    "### Using information from timestamps."
   ]
  },
  {
   "cell_type": "code",
   "execution_count": 16,
   "metadata": {
    "collapsed": true
   },
   "outputs": [],
   "source": [
    "train.incident_time = pd.to_datetime(train.incident_time)\n",
    "train['hour'] = train.incident_time.dt.hour\n",
    "train['minute'] = train.incident_time.dt.minute\n",
    "\n",
    "test.incident_time = pd.to_datetime(test.incident_time)\n",
    "test['hour'] = test.incident_time.dt.hour\n",
    "test['minute'] = test.incident_time.dt.minute\n",
    "\n",
    "train.incident_date = pd.to_datetime(train.incident_date)\n",
    "train['day'] = train.incident_date.dt.day\n",
    "train['month'] = train.incident_date.dt.month\n",
    "train['week'] = train.incident_date.dt.week\n",
    "train['year'] = train.incident_date.dt.year\n",
    "\n",
    "test.incident_date = pd.to_datetime(test.incident_date)\n",
    "test['day'] = test.incident_date.dt.day\n",
    "test['month'] = test.incident_date.dt.month\n",
    "test['week'] = test.incident_date.dt.week\n",
    "test['year'] = test.incident_date.dt.year\n",
    "\n",
    "train = train.drop(labels = ['incident_time', 'incident_date'], axis = 1)\n",
    "test = test.drop(labels = ['incident_time', 'incident_date'], axis = 1)"
   ]
  },
  {
   "cell_type": "markdown",
   "metadata": {},
   "source": [
    "### Extra feature created by adding both the distance features."
   ]
  },
  {
   "cell_type": "code",
   "execution_count": 17,
   "metadata": {
    "collapsed": true
   },
   "outputs": [],
   "source": [
    "train['base_to_hospital_distance'] = train['base_to_scene_distance'] + train['scene_to_hospital_distance']\n",
    "test['base_to_hospital_distance'] = test['base_to_scene_distance'] + test['scene_to_hospital_distance']"
   ]
  },
  {
   "cell_type": "code",
   "execution_count": 18,
   "metadata": {
    "collapsed": true
   },
   "outputs": [],
   "source": [
    "training = train.drop(labels = ['victim_id', 'criticality', 'incident_tehsil', 'cause_of_emergency', 'roadway_feature', 'road_type', 'surrounding_area', 'incident_location'], axis = 1)\n",
    "testing = test.drop(labels = ['victim_id','incident_tehsil', 'cause_of_emergency', 'roadway_feature', 'road_type', 'surrounding_area', 'incident_location'], axis = 1)\n",
    "target = train['criticality']"
   ]
  },
  {
   "cell_type": "code",
   "execution_count": 19,
   "metadata": {
    "collapsed": true
   },
   "outputs": [],
   "source": [
    "from sklearn.model_selection import train_test_split"
   ]
  },
  {
   "cell_type": "code",
   "execution_count": 20,
   "metadata": {
    "collapsed": true
   },
   "outputs": [],
   "source": [
    "xdata, xtest, ydata, ytest = train_test_split(training, target, test_size = 0.1, random_state = 1, stratify = target)\n",
    "xdata = xdata.reset_index(drop = True)\n",
    "xtest = xtest.reset_index(drop = True)\n",
    "ydata = ydata.reset_index(drop = True)\n",
    "ytest = ytest.reset_index(drop = True)"
   ]
  },
  {
   "cell_type": "code",
   "execution_count": 21,
   "metadata": {
    "collapsed": true
   },
   "outputs": [],
   "source": [
    "xtrain, xval, ytrain, yval = train_test_split(xdata, ydata, test_size = 0.25, random_state = 1, stratify = ydata)\n",
    "xtrain = xtrain.reset_index(drop = True)\n",
    "xval = xval.reset_index(drop = True)\n",
    "ytrain = ytrain.reset_index(drop = True)\n",
    "yval = yval.reset_index(drop = True)"
   ]
  },
  {
   "cell_type": "code",
   "execution_count": 22,
   "metadata": {},
   "outputs": [
    {
     "name": "stderr",
     "output_type": "stream",
     "text": [
      "/home/ankushraut/anaconda3/lib/python3.6/site-packages/sklearn/cross_validation.py:44: DeprecationWarning: This module was deprecated in version 0.18 in favor of the model_selection module into which all the refactored classes and functions are moved. Also note that the interface of the new CV iterators are different from that of this module. This module will be removed in 0.20.\n",
      "  \"This module will be removed in 0.20.\", DeprecationWarning)\n"
     ]
    }
   ],
   "source": [
    "import xgboost as xgb"
   ]
  },
  {
   "cell_type": "code",
   "execution_count": 23,
   "metadata": {},
   "outputs": [
    {
     "name": "stdout",
     "output_type": "stream",
     "text": [
      "[0]\ttrain-auc:0.765444\teval-auc:0.711299\n",
      "Multiple eval metrics have been passed: 'eval-auc' will be used for early stopping.\n",
      "\n",
      "Will train until eval-auc hasn't improved in 25 rounds.\n",
      "[1]\ttrain-auc:0.767461\teval-auc:0.712579\n",
      "[2]\ttrain-auc:0.770271\teval-auc:0.712581\n",
      "[3]\ttrain-auc:0.77044\teval-auc:0.712832\n",
      "[4]\ttrain-auc:0.778679\teval-auc:0.728983\n",
      "[5]\ttrain-auc:0.778321\teval-auc:0.728554\n",
      "[6]\ttrain-auc:0.777817\teval-auc:0.725883\n",
      "[7]\ttrain-auc:0.7785\teval-auc:0.726633\n",
      "[8]\ttrain-auc:0.783124\teval-auc:0.734443\n",
      "[9]\ttrain-auc:0.784553\teval-auc:0.738192\n",
      "[10]\ttrain-auc:0.785296\teval-auc:0.73784\n",
      "[11]\ttrain-auc:0.794223\teval-auc:0.748169\n",
      "[12]\ttrain-auc:0.794422\teval-auc:0.748427\n",
      "[13]\ttrain-auc:0.794845\teval-auc:0.748116\n",
      "[14]\ttrain-auc:0.796827\teval-auc:0.753195\n",
      "[15]\ttrain-auc:0.797235\teval-auc:0.75364\n",
      "[16]\ttrain-auc:0.797969\teval-auc:0.754795\n",
      "[17]\ttrain-auc:0.799825\teval-auc:0.756654\n",
      "[18]\ttrain-auc:0.801023\teval-auc:0.75775\n",
      "[19]\ttrain-auc:0.801217\teval-auc:0.758446\n",
      "[20]\ttrain-auc:0.802025\teval-auc:0.760342\n",
      "[21]\ttrain-auc:0.803424\teval-auc:0.762871\n",
      "[22]\ttrain-auc:0.806021\teval-auc:0.766345\n",
      "[23]\ttrain-auc:0.80596\teval-auc:0.76596\n",
      "[24]\ttrain-auc:0.80668\teval-auc:0.768795\n",
      "[25]\ttrain-auc:0.807969\teval-auc:0.770099\n",
      "[26]\ttrain-auc:0.808966\teval-auc:0.770356\n",
      "[27]\ttrain-auc:0.808435\teval-auc:0.768889\n",
      "[28]\ttrain-auc:0.814569\teval-auc:0.766394\n",
      "[29]\ttrain-auc:0.814388\teval-auc:0.766544\n",
      "[30]\ttrain-auc:0.816007\teval-auc:0.766804\n",
      "[31]\ttrain-auc:0.817391\teval-auc:0.766819\n",
      "[32]\ttrain-auc:0.820409\teval-auc:0.770273\n",
      "[33]\ttrain-auc:0.822767\teval-auc:0.771608\n",
      "[34]\ttrain-auc:0.823141\teval-auc:0.771332\n",
      "[35]\ttrain-auc:0.823125\teval-auc:0.770633\n",
      "[36]\ttrain-auc:0.82342\teval-auc:0.770721\n",
      "[37]\ttrain-auc:0.825013\teval-auc:0.771769\n",
      "[38]\ttrain-auc:0.82487\teval-auc:0.77076\n",
      "[39]\ttrain-auc:0.827632\teval-auc:0.771625\n",
      "[40]\ttrain-auc:0.828562\teval-auc:0.773882\n",
      "[41]\ttrain-auc:0.829229\teval-auc:0.775235\n",
      "[42]\ttrain-auc:0.829877\teval-auc:0.775681\n",
      "[43]\ttrain-auc:0.830501\teval-auc:0.7761\n",
      "[44]\ttrain-auc:0.831087\teval-auc:0.775189\n",
      "[45]\ttrain-auc:0.831173\teval-auc:0.776358\n",
      "[46]\ttrain-auc:0.831843\teval-auc:0.775519\n",
      "[47]\ttrain-auc:0.83258\teval-auc:0.775631\n",
      "[48]\ttrain-auc:0.832947\teval-auc:0.776866\n",
      "[49]\ttrain-auc:0.83503\teval-auc:0.779445\n",
      "[50]\ttrain-auc:0.835558\teval-auc:0.779126\n",
      "[51]\ttrain-auc:0.835969\teval-auc:0.779465\n",
      "[52]\ttrain-auc:0.837114\teval-auc:0.779867\n",
      "[53]\ttrain-auc:0.839725\teval-auc:0.77973\n",
      "[54]\ttrain-auc:0.841813\teval-auc:0.779075\n",
      "[55]\ttrain-auc:0.841898\teval-auc:0.779574\n",
      "[56]\ttrain-auc:0.843274\teval-auc:0.780854\n",
      "[57]\ttrain-auc:0.84496\teval-auc:0.779748\n",
      "[58]\ttrain-auc:0.846941\teval-auc:0.779264\n",
      "[59]\ttrain-auc:0.847836\teval-auc:0.780367\n",
      "[60]\ttrain-auc:0.849599\teval-auc:0.781403\n",
      "[61]\ttrain-auc:0.849939\teval-auc:0.782588\n",
      "[62]\ttrain-auc:0.851885\teval-auc:0.782166\n",
      "[63]\ttrain-auc:0.852592\teval-auc:0.782103\n",
      "[64]\ttrain-auc:0.853712\teval-auc:0.783395\n",
      "[65]\ttrain-auc:0.854184\teval-auc:0.784005\n",
      "[66]\ttrain-auc:0.854991\teval-auc:0.784293\n",
      "[67]\ttrain-auc:0.856368\teval-auc:0.784961\n",
      "[68]\ttrain-auc:0.857046\teval-auc:0.785527\n",
      "[69]\ttrain-auc:0.857304\teval-auc:0.785764\n",
      "[70]\ttrain-auc:0.857507\teval-auc:0.786116\n",
      "[71]\ttrain-auc:0.858897\teval-auc:0.786457\n",
      "[72]\ttrain-auc:0.860352\teval-auc:0.786347\n",
      "[73]\ttrain-auc:0.861345\teval-auc:0.786966\n",
      "[74]\ttrain-auc:0.862374\teval-auc:0.785455\n",
      "[75]\ttrain-auc:0.863556\teval-auc:0.785865\n",
      "[76]\ttrain-auc:0.864577\teval-auc:0.786102\n",
      "[77]\ttrain-auc:0.864839\teval-auc:0.785748\n",
      "[78]\ttrain-auc:0.865157\teval-auc:0.786052\n",
      "[79]\ttrain-auc:0.866793\teval-auc:0.785239\n",
      "[80]\ttrain-auc:0.867564\teval-auc:0.785138\n",
      "[81]\ttrain-auc:0.868584\teval-auc:0.785446\n",
      "[82]\ttrain-auc:0.869905\teval-auc:0.784974\n",
      "[83]\ttrain-auc:0.870881\teval-auc:0.784566\n",
      "[84]\ttrain-auc:0.871734\teval-auc:0.784829\n",
      "[85]\ttrain-auc:0.871889\teval-auc:0.785207\n",
      "[86]\ttrain-auc:0.871953\teval-auc:0.785368\n",
      "[87]\ttrain-auc:0.872598\teval-auc:0.785625\n",
      "[88]\ttrain-auc:0.872858\teval-auc:0.785097\n",
      "[89]\ttrain-auc:0.873662\teval-auc:0.785398\n",
      "[90]\ttrain-auc:0.874455\teval-auc:0.785415\n",
      "[91]\ttrain-auc:0.875629\teval-auc:0.785147\n",
      "[92]\ttrain-auc:0.875912\teval-auc:0.784789\n",
      "[93]\ttrain-auc:0.876808\teval-auc:0.783477\n",
      "[94]\ttrain-auc:0.877753\teval-auc:0.783349\n",
      "[95]\ttrain-auc:0.878881\teval-auc:0.782563\n",
      "[96]\ttrain-auc:0.879101\teval-auc:0.782888\n",
      "[97]\ttrain-auc:0.879699\teval-auc:0.783236\n",
      "[98]\ttrain-auc:0.880511\teval-auc:0.783055\n",
      "Stopping. Best iteration:\n",
      "[73]\ttrain-auc:0.861345\teval-auc:0.786966\n",
      "\n"
     ]
    }
   ],
   "source": [
    "params = {\"objective\":\"binary:logistic\",\n",
    "          \"booster\":\"gbtree\",\n",
    "          \"eta\":0.1,\n",
    "          \"max_depth\": 3,\n",
    "         \"subsample\":0.95,\n",
    "         \"silent\":0,\n",
    "         \"seed\":1,\n",
    "         \"lambda\":.01,\n",
    "         \"alpha\":.01,\n",
    "         \"eval_metric\":\"auc\"}\n",
    "\n",
    "num_boost_round = 1000\n",
    "\n",
    "dtrain = xgb.DMatrix(xtrain, ytrain)\n",
    "dvalid = xgb.DMatrix(xval, yval)\n",
    "\n",
    "watchlist = [(dtrain, 'train'), (dvalid, 'eval')]\n",
    "\n",
    "booster = xgb.train(params, dtrain, num_boost_round, evals = watchlist, early_stopping_rounds = 25)"
   ]
  },
  {
   "cell_type": "code",
   "execution_count": 24,
   "metadata": {},
   "outputs": [
    {
     "data": {
      "image/png": "[encoded data removed]",
      "text/plain": [
       "<matplotlib.figure.Figure at 0x7f6161185ac8>"
      ]
     },
     "metadata": {},
     "output_type": "display_data"
    }
   ],
   "source": [
    "xgb.plot_importance(booster, xlabel='Importance', ylabel='Features')\n",
    "plt.show()"
   ]
  },
  {
   "cell_type": "code",
   "execution_count": 25,
   "metadata": {
    "collapsed": true
   },
   "outputs": [],
   "source": [
    "performance = booster.predict(xgb.DMatrix(xtest))"
   ]
  },
  {
   "cell_type": "code",
   "execution_count": 26,
   "metadata": {
    "collapsed": true
   },
   "outputs": [],
   "source": [
    "from sklearn.metrics import roc_auc_score, roc_curve, auc"
   ]
  },
  {
   "cell_type": "code",
   "execution_count": 27,
   "metadata": {},
   "outputs": [
    {
     "data": {
      "text/plain": [
       "0.78554105752151937"
      ]
     },
     "execution_count": 27,
     "metadata": {},
     "output_type": "execute_result"
    }
   ],
   "source": [
    "roc_auc_score(ytest, performance)"
   ]
  },
  {
   "cell_type": "markdown",
   "metadata": {},
   "source": [
    "### ROC curve"
   ]
  },
  {
   "cell_type": "code",
   "execution_count": 28,
   "metadata": {},
   "outputs": [
    {
     "data": {
      "image/png": "[encoded data removed]",
      "text/plain": [
       "<matplotlib.figure.Figure at 0x7f6165e125f8>"
      ]
     },
     "metadata": {},
     "output_type": "display_data"
    }
   ],
   "source": [
    "preds = performance\n",
    "fpr, tpr, threshold = roc_curve(ytest, preds)\n",
    "roc_auc = auc(fpr, tpr)\n",
    "\n",
    "plt.title('Receiver Operating Characteristic')\n",
    "plt.plot(fpr, tpr, 'b', label = 'AUC = %0.2f' % roc_auc)\n",
    "plt.legend(loc = 'lower right')\n",
    "plt.plot([0, 1], [0, 1],'r--')\n",
    "plt.xlim([0, 1])\n",
    "plt.ylim([0, 1])\n",
    "plt.ylabel('True Positive Rate')\n",
    "plt.xlabel('False Positive Rate')\n",
    "plt.show()"
   ]
  },
  {
   "cell_type": "code",
   "execution_count": 29,
   "metadata": {
    "collapsed": true
   },
   "outputs": [],
   "source": [
    "predictions = booster.predict(xgb.DMatrix(testing))"
   ]
  },
  {
   "cell_type": "code",
   "execution_count": 30,
   "metadata": {
    "collapsed": true
   },
   "outputs": [],
   "source": [
    "submission['criticality'] = pd.DataFrame({'criticality':predictions})"
   ]
  },
  {
   "cell_type": "code",
   "execution_count": 31,
   "metadata": {
    "collapsed": true
   },
   "outputs": [],
   "source": [
    "submission.to_csv('sub1.csv', index = False)"
   ]
  },
  {
   "cell_type": "code",
   "execution_count": null,
   "metadata": {
    "collapsed": true
   },
   "outputs": [],
   "source": []
  }
 ],
 "metadata": {
  "kernelspec": {
   "display_name": "Python 3",
   "language": "python",
   "name": "python3"
  },
  "language_info": {
   "codemirror_mode": {
    "name": "ipython",
    "version": 3
   },
   "file_extension": ".py",
   "mimetype": "text/x-python",
   "name": "python",
   "nbconvert_exporter": "python",
   "pygments_lexer": "ipython3",
   "version": "3.6.1"
  }
 },
 "nbformat": 4,
 "nbformat_minor": 2
}
